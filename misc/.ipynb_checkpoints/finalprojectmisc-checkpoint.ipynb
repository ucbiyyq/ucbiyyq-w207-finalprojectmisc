{
 "cells": [
  {
   "cell_type": "code",
   "execution_count": 1,
   "metadata": {
    "collapsed": true
   },
   "outputs": [],
   "source": [
    "import pandas as pd"
   ]
  },
  {
   "cell_type": "code",
   "execution_count": 2,
   "metadata": {
    "collapsed": false
   },
   "outputs": [],
   "source": [
    "aisles = pd.read_csv(\"C:/Users/yangyq/Google Drive/Grad school project/ucberkeley_mids/academics/W207_ML/finalprojdata/aisles.csv\")\n",
    "departments = pd.read_csv(\"C:/Users/yangyq/Google Drive/Grad school project/ucberkeley_mids/academics/W207_ML/finalprojdata/departments.csv\")\n",
    "order_products_prior = pd.read_csv(\"C:/Users/yangyq/Google Drive/Grad school project/ucberkeley_mids/academics/W207_ML/finalprojdata/order_products__prior.csv\")\n",
    "order_products_train = pd.read_csv(\"C:/Users/yangyq/Google Drive/Grad school project/ucberkeley_mids/academics/W207_ML/finalprojdata/order_products__train.csv\")\n",
    "orders = pd.read_csv(\"C:/Users/yangyq/Google Drive/Grad school project/ucberkeley_mids/academics/W207_ML/finalprojdata/orders.csv\")\n",
    "products = pd.read_csv(\"C:/Users/yangyq/Google Drive/Grad school project/ucberkeley_mids/academics/W207_ML/finalprojdata/products.csv\")\n",
    "sample_submission = pd.read_csv(\"C:/Users/yangyq/Google Drive/Grad school project/ucberkeley_mids/academics/W207_ML/finalprojdata/sample_submission.csv\")\n",
    "\n",
    "datasets = dict()\n",
    "datasets['aisles'] = aisles\n",
    "datasets['departments'] = departments\n",
    "datasets['order_products_prior'] = order_products_prior\n",
    "datasets['order_products_train'] = order_products_train\n",
    "datasets['orders'] = orders\n",
    "datasets['products'] = products\n",
    "datasets['sample_submission'] = sample_submission\n"
   ]
  },
  {
   "cell_type": "code",
   "execution_count": 9,
   "metadata": {
    "collapsed": false
   },
   "outputs": [
    {
     "name": "stdout",
     "output_type": "stream",
     "text": [
      "aisles\n",
      "   aisle_id                       aisle\n",
      "0         1       prepared soups salads\n",
      "1         2           specialty cheeses\n",
      "2         3         energy granola bars\n",
      "3         4               instant foods\n",
      "4         5  marinades meat preparation\n",
      "----------------\n",
      "departments\n",
      "   department_id department\n",
      "0              1     frozen\n",
      "1              2      other\n",
      "2              3     bakery\n",
      "3              4    produce\n",
      "4              5    alcohol\n",
      "----------------\n",
      "order_products_prior\n",
      "   order_id  product_id  add_to_cart_order  reordered\n",
      "0         2       33120                  1          1\n",
      "1         2       28985                  2          1\n",
      "2         2        9327                  3          0\n",
      "3         2       45918                  4          1\n",
      "4         2       30035                  5          0\n",
      "----------------\n",
      "order_products_train\n",
      "   order_id  product_id  add_to_cart_order  reordered\n",
      "0         1       49302                  1          1\n",
      "1         1       11109                  2          1\n",
      "2         1       10246                  3          0\n",
      "3         1       49683                  4          0\n",
      "4         1       43633                  5          1\n",
      "----------------\n",
      "orders\n",
      "   order_id  user_id eval_set  order_number  order_dow  order_hour_of_day  \\\n",
      "0   2539329        1    prior             1          2                  8   \n",
      "1   2398795        1    prior             2          3                  7   \n",
      "2    473747        1    prior             3          3                 12   \n",
      "3   2254736        1    prior             4          4                  7   \n",
      "4    431534        1    prior             5          4                 15   \n",
      "\n",
      "   days_since_prior_order  \n",
      "0                     NaN  \n",
      "1                    15.0  \n",
      "2                    21.0  \n",
      "3                    29.0  \n",
      "4                    28.0  \n",
      "----------------\n",
      "products\n",
      "   product_id                                       product_name  aisle_id  \\\n",
      "0           1                         Chocolate Sandwich Cookies        61   \n",
      "1           2                                   All-Seasons Salt       104   \n",
      "2           3               Robust Golden Unsweetened Oolong Tea        94   \n",
      "3           4  Smart Ones Classic Favorites Mini Rigatoni Wit...        38   \n",
      "4           5                          Green Chile Anytime Sauce         5   \n",
      "\n",
      "   department_id  \n",
      "0             19  \n",
      "1             13  \n",
      "2              7  \n",
      "3              1  \n",
      "4             13  \n",
      "----------------\n",
      "sample_submission\n",
      "   order_id     products\n",
      "0        17  39276 29259\n",
      "1        34  39276 29259\n",
      "2       137  39276 29259\n",
      "3       182  39276 29259\n",
      "4       257  39276 29259\n",
      "----------------\n"
     ]
    }
   ],
   "source": [
    "for key, df in datasets.items():\n",
    "    print(key)\n",
    "    print(df.head(5))\n",
    "    print(\"----------------\")"
   ]
  },
  {
   "cell_type": "code",
   "execution_count": 12,
   "metadata": {
    "collapsed": false
   },
   "outputs": [
    {
     "name": "stdout",
     "output_type": "stream",
     "text": [
      "[1, 2, 3, 4, 5, 6, 7, 8, 9, 10, 11, 12, 13, 14, 15, 16, 17, 18, 19, 20, 21, 22, 23, 24, 25, 26, 27, 28, 29, 30, 31, 32, 33, 34, 35, 36, 37, 38, 39, 40, 41, 42, 43, 44, 45, 46, 47, 48, 49, 50, 51, 52, 53, 54, 55, 56, 57, 58, 59, 60, 61, 62, 63, 64, 65, 66, 67, 68, 69, 70, 71, 72, 73, 74, 75, 76, 77, 78, 79, 80, 81, 82, 83, 84, 85, 86, 87, 88, 89, 90, 91, 92, 93, 94, 95, 96, 97, 98, 99, 100]\n"
     ]
    }
   ],
   "source": [
    "print(sorted(orders.order_id.unique())[:100])"
   ]
  },
  {
   "cell_type": "code",
   "execution_count": 10,
   "metadata": {
    "collapsed": false
   },
   "outputs": [
    {
     "name": "stdout",
     "output_type": "stream",
     "text": [
      "[  2   3   4   5   6   7   8   9  10  11  12  13  14  15  16  18  19  20\n",
      "  21  22  23  24  25  26  27  28  29  30  31  32  33  35  37  39  40  41\n",
      "  42  43  44  45  46  47  48  49  50  51  52  53  54  55  56  57  58  59\n",
      "  60  61  62  63  64  65  66  67  68  69  70  71  72  73  74  75  76  77\n",
      "  78  79  80  81  82  83  84  85  86  87  88  89  90  91  92  93  94  95\n",
      "  97  99 100 101 102 103 104 105 106 107]\n"
     ]
    }
   ],
   "source": [
    "print(order_products_prior.order_id.unique()[:100])"
   ]
  },
  {
   "cell_type": "code",
   "execution_count": 13,
   "metadata": {
    "collapsed": false
   },
   "outputs": [
    {
     "name": "stdout",
     "output_type": "stream",
     "text": [
      "[   1   36   38   96   98  112  170  218  226  349  393  456  473  631  719\n",
      "  762  774  844  878  904  915  988 1001 1032 1042 1077 1086 1119 1120 1139\n",
      " 1143 1145 1275 1280 1318 1325 1335 1342 1350 1468 1571 1572 1579 1591 1597\n",
      " 1620 1674 1682 1703 1721 1764 1851 1865 1890 1955 1983 1994 2011 2021 2029\n",
      " 2068 2087 2115 2191 2216 2318 2389 2415 2442 2445 2468 2530 2603 2711 2737\n",
      " 2820 2822 2853 2869 2888 2889 2936 2937 2948 2985 3010 3037 3056 3068 3091\n",
      " 3103 3142 3160 3176 3179 3200 3209 3212 3227 3243]\n"
     ]
    }
   ],
   "source": [
    "print(order_products_train.order_id.unique()[:100])"
   ]
  },
  {
   "cell_type": "code",
   "execution_count": 20,
   "metadata": {
    "collapsed": false
   },
   "outputs": [
    {
     "name": "stdout",
     "output_type": "stream",
     "text": [
      "   order_id  user_id eval_set  order_number  order_dow  order_hour_of_day  \\\n",
      "0   2539329        1    prior             1          2                  8   \n",
      "1   2539329        1    prior             1          2                  8   \n",
      "2   2539329        1    prior             1          2                  8   \n",
      "3   2539329        1    prior             1          2                  8   \n",
      "4   2539329        1    prior             1          2                  8   \n",
      "\n",
      "   days_since_prior_order  product_id  add_to_cart_order  reordered  \n",
      "0                     NaN         196                  1          0  \n",
      "1                     NaN       14084                  2          0  \n",
      "2                     NaN       12427                  3          0  \n",
      "3                     NaN       26088                  4          0  \n",
      "4                     NaN       26405                  5          0  \n"
     ]
    }
   ],
   "source": [
    "orders_and_priors = pd.merge(orders, order_products_prior, on='order_id')\n",
    "print(orders_and_priors.head())"
   ]
  },
  {
   "cell_type": "code",
   "execution_count": 24,
   "metadata": {
    "collapsed": false
   },
   "outputs": [
    {
     "name": "stdout",
     "output_type": "stream",
     "text": [
      "['prior']\n",
      "order_id                  32434489\n",
      "user_id                   32434489\n",
      "eval_set                  32434489\n",
      "order_number              32434489\n",
      "order_dow                 32434489\n",
      "order_hour_of_day         32434489\n",
      "days_since_prior_order    30356421\n",
      "product_id                32434489\n",
      "add_to_cart_order         32434489\n",
      "reordered                 32434489\n",
      "dtype: int64\n"
     ]
    }
   ],
   "source": [
    "print(orders_and_priors.eval_set.unique())\n",
    "print(orders_and_priors.count())"
   ]
  },
  {
   "cell_type": "code",
   "execution_count": 18,
   "metadata": {
    "collapsed": false
   },
   "outputs": [
    {
     "name": "stdout",
     "output_type": "stream",
     "text": [
      "   order_id  user_id eval_set  order_number  order_dow  order_hour_of_day  \\\n",
      "0   1187899        1    train            11          4                  8   \n",
      "1   1187899        1    train            11          4                  8   \n",
      "2   1187899        1    train            11          4                  8   \n",
      "3   1187899        1    train            11          4                  8   \n",
      "4   1187899        1    train            11          4                  8   \n",
      "\n",
      "   days_since_prior_order  product_id  add_to_cart_order  reordered  \n",
      "0                    14.0         196                  1          1  \n",
      "1                    14.0       25133                  2          1  \n",
      "2                    14.0       38928                  3          1  \n",
      "3                    14.0       26405                  4          1  \n",
      "4                    14.0       39657                  5          1  \n"
     ]
    }
   ],
   "source": [
    "orders_and_train = pd.merge(orders, order_products_train, on='order_id')\n",
    "print(orders_and_train.head())"
   ]
  },
  {
   "cell_type": "code",
   "execution_count": 25,
   "metadata": {
    "collapsed": false
   },
   "outputs": [
    {
     "name": "stdout",
     "output_type": "stream",
     "text": [
      "['train']\n",
      "order_id                  1384617\n",
      "user_id                   1384617\n",
      "eval_set                  1384617\n",
      "order_number              1384617\n",
      "order_dow                 1384617\n",
      "order_hour_of_day         1384617\n",
      "days_since_prior_order    1384617\n",
      "product_id                1384617\n",
      "add_to_cart_order         1384617\n",
      "reordered                 1384617\n",
      "dtype: int64\n"
     ]
    }
   ],
   "source": [
    "print(orders_and_train.eval_set.unique())\n",
    "print(orders_and_train.count())"
   ]
  },
  {
   "cell_type": "code",
   "execution_count": 26,
   "metadata": {
    "collapsed": false
   },
   "outputs": [
    {
     "name": "stdout",
     "output_type": "stream",
     "text": [
      "    order_id  user_id eval_set  order_number  order_dow  order_hour_of_day  \\\n",
      "0    1187899        1    train            11          4                  8   \n",
      "1    1187899        1    train            11          4                  8   \n",
      "2    1187899        1    train            11          4                  8   \n",
      "3    1187899        1    train            11          4                  8   \n",
      "4    1187899        1    train            11          4                  8   \n",
      "5    1187899        1    train            11          4                  8   \n",
      "6    1187899        1    train            11          4                  8   \n",
      "7    1187899        1    train            11          4                  8   \n",
      "8    1187899        1    train            11          4                  8   \n",
      "9    1187899        1    train            11          4                  8   \n",
      "10   1187899        1    train            11          4                  8   \n",
      "11   1492625        2    train            15          1                 11   \n",
      "12   1492625        2    train            15          1                 11   \n",
      "13   1492625        2    train            15          1                 11   \n",
      "14   1492625        2    train            15          1                 11   \n",
      "15   1492625        2    train            15          1                 11   \n",
      "16   1492625        2    train            15          1                 11   \n",
      "17   1492625        2    train            15          1                 11   \n",
      "18   1492625        2    train            15          1                 11   \n",
      "19   1492625        2    train            15          1                 11   \n",
      "20   1492625        2    train            15          1                 11   \n",
      "21   1492625        2    train            15          1                 11   \n",
      "22   1492625        2    train            15          1                 11   \n",
      "23   1492625        2    train            15          1                 11   \n",
      "24   1492625        2    train            15          1                 11   \n",
      "25   1492625        2    train            15          1                 11   \n",
      "26   1492625        2    train            15          1                 11   \n",
      "27   1492625        2    train            15          1                 11   \n",
      "28   1492625        2    train            15          1                 11   \n",
      "29   1492625        2    train            15          1                 11   \n",
      "..       ...      ...      ...           ...        ...                ...   \n",
      "70    880375        8    train             4          1                 14   \n",
      "71    880375        8    train             4          1                 14   \n",
      "72    880375        8    train             4          1                 14   \n",
      "73    880375        8    train             4          1                 14   \n",
      "74    880375        8    train             4          1                 14   \n",
      "75    880375        8    train             4          1                 14   \n",
      "76    880375        8    train             4          1                 14   \n",
      "77    880375        8    train             4          1                 14   \n",
      "78   1094988        9    train             4          6                 10   \n",
      "79   1094988        9    train             4          6                 10   \n",
      "80   1094988        9    train             4          6                 10   \n",
      "81   1094988        9    train             4          6                 10   \n",
      "82   1094988        9    train             4          6                 10   \n",
      "83   1094988        9    train             4          6                 10   \n",
      "84   1094988        9    train             4          6                 10   \n",
      "85   1094988        9    train             4          6                 10   \n",
      "86   1094988        9    train             4          6                 10   \n",
      "87   1094988        9    train             4          6                 10   \n",
      "88   1094988        9    train             4          6                 10   \n",
      "89   1094988        9    train             4          6                 10   \n",
      "90   1094988        9    train             4          6                 10   \n",
      "91   1094988        9    train             4          6                 10   \n",
      "92   1094988        9    train             4          6                 10   \n",
      "93   1094988        9    train             4          6                 10   \n",
      "94   1094988        9    train             4          6                 10   \n",
      "95   1094988        9    train             4          6                 10   \n",
      "96   1094988        9    train             4          6                 10   \n",
      "97   1094988        9    train             4          6                 10   \n",
      "98   1094988        9    train             4          6                 10   \n",
      "99   1094988        9    train             4          6                 10   \n",
      "\n",
      "    days_since_prior_order  product_id  add_to_cart_order  reordered  \n",
      "0                     14.0         196                  1          1  \n",
      "1                     14.0       25133                  2          1  \n",
      "2                     14.0       38928                  3          1  \n",
      "3                     14.0       26405                  4          1  \n",
      "4                     14.0       39657                  5          1  \n",
      "5                     14.0       10258                  6          1  \n",
      "6                     14.0       13032                  7          1  \n",
      "7                     14.0       26088                  8          1  \n",
      "8                     14.0       27845                  9          0  \n",
      "9                     14.0       49235                 10          1  \n",
      "10                    14.0       46149                 11          1  \n",
      "11                    30.0       22963                  1          1  \n",
      "12                    30.0        7963                  2          1  \n",
      "13                    30.0       16589                  3          1  \n",
      "14                    30.0       32792                  4          1  \n",
      "15                    30.0       41787                  5          1  \n",
      "16                    30.0       22825                  6          1  \n",
      "17                    30.0       13640                  7          0  \n",
      "18                    30.0       24852                  8          1  \n",
      "19                    30.0       45066                  9          1  \n",
      "20                    30.0        9387                 10          0  \n",
      "21                    30.0        5450                 11          1  \n",
      "22                    30.0       24838                 12          0  \n",
      "23                    30.0       38547                 13          0  \n",
      "24                    30.0       19019                 14          0  \n",
      "25                    30.0       12007                 15          0  \n",
      "26                    30.0       26352                 16          0  \n",
      "27                    30.0       22559                 17          1  \n",
      "28                    30.0       45613                 18          1  \n",
      "29                    30.0       31883                 19          0  \n",
      "..                     ...         ...                ...        ...  \n",
      "70                    10.0       48230                 11          0  \n",
      "71                    10.0       47766                 12          0  \n",
      "72                    10.0       31717                 13          0  \n",
      "73                    10.0       21903                 14          1  \n",
      "74                    10.0       25659                 15          0  \n",
      "75                    10.0       41540                 16          1  \n",
      "76                    10.0       48121                 17          0  \n",
      "77                    10.0        2846                 18          0  \n",
      "78                    30.0       27555                  1          1  \n",
      "79                    30.0       42347                  2          1  \n",
      "80                    30.0       27596                  3          1  \n",
      "81                    30.0        8834                  4          1  \n",
      "82                    30.0       26604                  5          1  \n",
      "83                    30.0       12075                  6          1  \n",
      "84                    30.0        8467                  7          1  \n",
      "85                    30.0       38988                  8          1  \n",
      "86                    30.0       30252                  9          1  \n",
      "87                    30.0       18926                 10          1  \n",
      "88                    30.0       24954                 11          1  \n",
      "89                    30.0       40571                 12          1  \n",
      "90                    30.0        1559                 13          1  \n",
      "91                    30.0       33754                 14          1  \n",
      "92                    30.0       29594                 15          1  \n",
      "93                    30.0       17600                 16          1  \n",
      "94                    30.0       42828                 17          1  \n",
      "95                    30.0       10132                 18          1  \n",
      "96                    30.0       20899                 19          1  \n",
      "97                    30.0       27973                 20          1  \n",
      "98                    30.0       41844                 21          1  \n",
      "99                    30.0       30967                 22          1  \n",
      "\n",
      "[100 rows x 10 columns]\n"
     ]
    }
   ],
   "source": [
    "df1 = orders_and_train.head(100)\n"
   ]
  },
  {
   "cell_type": "code",
   "execution_count": null,
   "metadata": {
    "collapsed": true
   },
   "outputs": [],
   "source": []
  }
 ],
 "metadata": {
  "kernelspec": {
   "display_name": "Python 3",
   "language": "python",
   "name": "python3"
  },
  "language_info": {
   "codemirror_mode": {
    "name": "ipython",
    "version": 3
   },
   "file_extension": ".py",
   "mimetype": "text/x-python",
   "name": "python",
   "nbconvert_exporter": "python",
   "pygments_lexer": "ipython3",
   "version": "3.6.0"
  }
 },
 "nbformat": 4,
 "nbformat_minor": 2
}
